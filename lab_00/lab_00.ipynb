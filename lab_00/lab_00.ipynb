{
 "cells": [
  {
   "cell_type": "markdown",
   "metadata": {},
   "source": [
    "<img align='center' style='max-width: 980px' src='./banner.png'> "
   ]
  },
  {
   "cell_type": "markdown",
   "metadata": {},
   "source": [
    "# Welcome, GSERM 2023 Course Participants! 🎉 🇨🇭 \n",
    "\n",
    "This particular Notebook is your trusty St. Bernard rescue dog 🐶, created to ensure you're equipped to scale these heights and able to run Notebooks correctly in either the **Google Colab** environment or the **Binder Cloud** environment.\n",
    "\n",
    "And don't worry - carrying out this test is easier than perfecting your fondue recipe and should only take a minute of your time! 🕐\n",
    "\n",
    "So, let's dive in! Follow the steps below to run the `Code Cell`:\n",
    "\n",
    "1. Click into the cell to select it, as if you were pointing out the best Swiss chocolate in a store. 🍫\n",
    "2. To set off on our coding journey, you can either:\n",
    "   - Click the `Play` button, at the top of the screen, depending on the environment you are using.\n",
    "   - Alternatively, if you prefer the scenic route, you can use the keyboard shortcut `shift` + `enter`.\n",
    "\n",
    "Executing the cell will run the code it contains and print out the result of a \"highly complicated\" mathematical equation. It's as exciting as the moment your raclette cheese starts bubbling! 🧀 You'll know you're all set to embark on our coding adventure if you get the correct result. \n",
    "\n",
    "**Hint:** The correct answer is *44*. So, if you see *44* after running the cell, you're ready to go! 🥾 🏔️\n",
    "\n",
    "So strap on your metaphorical hiking boots, and let's embark on our coding adventure together! Enjoy the journey into the enchanting Swiss Alps of Deep Learning!"
   ]
  },
  {
   "cell_type": "code",
   "execution_count": null,
   "metadata": {},
   "outputs": [],
   "source": [
    "42 + 2"
   ]
  }
 ],
 "metadata": {
  "kernelspec": {
   "display_name": "Python 3 (ipykernel)",
   "language": "python",
   "name": "python3"
  },
  "language_info": {
   "codemirror_mode": {
    "name": "ipython",
    "version": 3
   },
   "file_extension": ".py",
   "mimetype": "text/x-python",
   "name": "python",
   "nbconvert_exporter": "python",
   "pygments_lexer": "ipython3",
   "version": "3.10.10"
  },
  "toc": {
   "base_numbering": 1,
   "nav_menu": {},
   "number_sections": false,
   "sideBar": true,
   "skip_h1_title": false,
   "title_cell": "Table of Contents",
   "title_sidebar": "Contents",
   "toc_cell": false,
   "toc_position": {},
   "toc_section_display": true,
   "toc_window_display": false
  }
 },
 "nbformat": 4,
 "nbformat_minor": 4
}
